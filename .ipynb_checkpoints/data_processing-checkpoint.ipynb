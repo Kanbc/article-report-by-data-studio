{
 "cells": [
  {
   "cell_type": "markdown",
   "metadata": {},
   "source": [
    "# Users"
   ]
  },
  {
   "cell_type": "code",
   "execution_count": 5,
   "metadata": {},
   "outputs": [
    {
     "name": "stdout",
     "output_type": "stream",
     "text": [
      "(100, 5)\n"
     ]
    },
    {
     "data": {
      "text/html": [
       "<div>\n",
       "<style>\n",
       "    .dataframe thead tr:only-child th {\n",
       "        text-align: right;\n",
       "    }\n",
       "\n",
       "    .dataframe thead th {\n",
       "        text-align: left;\n",
       "    }\n",
       "\n",
       "    .dataframe tbody tr th {\n",
       "        vertical-align: top;\n",
       "    }\n",
       "</style>\n",
       "<table border=\"1\" class=\"dataframe\">\n",
       "  <thead>\n",
       "    <tr style=\"text-align: right;\">\n",
       "      <th></th>\n",
       "      <th>id</th>\n",
       "      <th>user_type</th>\n",
       "      <th>name</th>\n",
       "      <th>birthdate</th>\n",
       "      <th>gender</th>\n",
       "    </tr>\n",
       "  </thead>\n",
       "  <tbody>\n",
       "    <tr>\n",
       "      <th>0</th>\n",
       "      <td>1</td>\n",
       "      <td>guest</td>\n",
       "      <td>Tabbi Sandes</td>\n",
       "      <td>4/12/2004</td>\n",
       "      <td>Female</td>\n",
       "    </tr>\n",
       "    <tr>\n",
       "      <th>1</th>\n",
       "      <td>2</td>\n",
       "      <td>owner</td>\n",
       "      <td>Spense Tille</td>\n",
       "      <td>9/27/2008</td>\n",
       "      <td>Male</td>\n",
       "    </tr>\n",
       "    <tr>\n",
       "      <th>2</th>\n",
       "      <td>3</td>\n",
       "      <td>tenant</td>\n",
       "      <td>Maurise Peele</td>\n",
       "      <td>11/16/2009</td>\n",
       "      <td>Male</td>\n",
       "    </tr>\n",
       "    <tr>\n",
       "      <th>3</th>\n",
       "      <td>4</td>\n",
       "      <td>resident</td>\n",
       "      <td>Alleen Bealton</td>\n",
       "      <td>9/26/1988</td>\n",
       "      <td>Female</td>\n",
       "    </tr>\n",
       "    <tr>\n",
       "      <th>4</th>\n",
       "      <td>5</td>\n",
       "      <td>resident</td>\n",
       "      <td>Manolo Magnay</td>\n",
       "      <td>3/6/1987</td>\n",
       "      <td>Male</td>\n",
       "    </tr>\n",
       "  </tbody>\n",
       "</table>\n",
       "</div>"
      ],
      "text/plain": [
       "   id user_type            name   birthdate  gender\n",
       "0   1     guest    Tabbi Sandes   4/12/2004  Female\n",
       "1   2     owner    Spense Tille   9/27/2008    Male\n",
       "2   3    tenant   Maurise Peele  11/16/2009    Male\n",
       "3   4  resident  Alleen Bealton   9/26/1988  Female\n",
       "4   5  resident   Manolo Magnay    3/6/1987    Male"
      ]
     },
     "execution_count": 5,
     "metadata": {},
     "output_type": "execute_result"
    }
   ],
   "source": [
    "import pandas as pd\n",
    "\n",
    "users = pd.read_csv('data_old/sc_report_user.csv')\n",
    "print(users.shape)\n",
    "users.head()"
   ]
  },
  {
   "cell_type": "code",
   "execution_count": 17,
   "metadata": {},
   "outputs": [],
   "source": [
    "del users['user_type']"
   ]
  },
  {
   "cell_type": "code",
   "execution_count": 18,
   "metadata": {},
   "outputs": [
    {
     "data": {
      "text/html": [
       "<div>\n",
       "<style>\n",
       "    .dataframe thead tr:only-child th {\n",
       "        text-align: right;\n",
       "    }\n",
       "\n",
       "    .dataframe thead th {\n",
       "        text-align: left;\n",
       "    }\n",
       "\n",
       "    .dataframe tbody tr th {\n",
       "        vertical-align: top;\n",
       "    }\n",
       "</style>\n",
       "<table border=\"1\" class=\"dataframe\">\n",
       "  <thead>\n",
       "    <tr style=\"text-align: right;\">\n",
       "      <th></th>\n",
       "      <th>id</th>\n",
       "      <th>name</th>\n",
       "      <th>birthdate</th>\n",
       "      <th>gender</th>\n",
       "    </tr>\n",
       "  </thead>\n",
       "  <tbody>\n",
       "    <tr>\n",
       "      <th>0</th>\n",
       "      <td>1</td>\n",
       "      <td>Tabbi Sandes</td>\n",
       "      <td>4/12/2004</td>\n",
       "      <td>Female</td>\n",
       "    </tr>\n",
       "    <tr>\n",
       "      <th>1</th>\n",
       "      <td>2</td>\n",
       "      <td>Spense Tille</td>\n",
       "      <td>9/27/2008</td>\n",
       "      <td>Male</td>\n",
       "    </tr>\n",
       "    <tr>\n",
       "      <th>2</th>\n",
       "      <td>3</td>\n",
       "      <td>Maurise Peele</td>\n",
       "      <td>11/16/2009</td>\n",
       "      <td>Male</td>\n",
       "    </tr>\n",
       "    <tr>\n",
       "      <th>3</th>\n",
       "      <td>4</td>\n",
       "      <td>Alleen Bealton</td>\n",
       "      <td>9/26/1988</td>\n",
       "      <td>Female</td>\n",
       "    </tr>\n",
       "    <tr>\n",
       "      <th>4</th>\n",
       "      <td>5</td>\n",
       "      <td>Manolo Magnay</td>\n",
       "      <td>3/6/1987</td>\n",
       "      <td>Male</td>\n",
       "    </tr>\n",
       "  </tbody>\n",
       "</table>\n",
       "</div>"
      ],
      "text/plain": [
       "   id            name   birthdate  gender\n",
       "0   1    Tabbi Sandes   4/12/2004  Female\n",
       "1   2    Spense Tille   9/27/2008    Male\n",
       "2   3   Maurise Peele  11/16/2009    Male\n",
       "3   4  Alleen Bealton   9/26/1988  Female\n",
       "4   5   Manolo Magnay    3/6/1987    Male"
      ]
     },
     "execution_count": 18,
     "metadata": {},
     "output_type": "execute_result"
    }
   ],
   "source": [
    "users.head()"
   ]
  },
  {
   "cell_type": "code",
   "execution_count": 19,
   "metadata": {},
   "outputs": [],
   "source": [
    "users.to_csv('data_table/user.csv', index = False)"
   ]
  },
  {
   "cell_type": "markdown",
   "metadata": {},
   "source": [
    "# Project"
   ]
  },
  {
   "cell_type": "code",
   "execution_count": 6,
   "metadata": {},
   "outputs": [
    {
     "name": "stdout",
     "output_type": "stream",
     "text": [
      "(10, 2)\n"
     ]
    },
    {
     "data": {
      "text/html": [
       "<div>\n",
       "<style>\n",
       "    .dataframe thead tr:only-child th {\n",
       "        text-align: right;\n",
       "    }\n",
       "\n",
       "    .dataframe thead th {\n",
       "        text-align: left;\n",
       "    }\n",
       "\n",
       "    .dataframe tbody tr th {\n",
       "        vertical-align: top;\n",
       "    }\n",
       "</style>\n",
       "<table border=\"1\" class=\"dataframe\">\n",
       "  <thead>\n",
       "    <tr style=\"text-align: right;\">\n",
       "      <th></th>\n",
       "      <th>id</th>\n",
       "      <th>name</th>\n",
       "    </tr>\n",
       "  </thead>\n",
       "  <tbody>\n",
       "    <tr>\n",
       "      <th>0</th>\n",
       "      <td>1</td>\n",
       "      <td>Yizhang Chengguanzhen</td>\n",
       "    </tr>\n",
       "    <tr>\n",
       "      <th>1</th>\n",
       "      <td>2</td>\n",
       "      <td>Il’ichëvo</td>\n",
       "    </tr>\n",
       "    <tr>\n",
       "      <th>2</th>\n",
       "      <td>3</td>\n",
       "      <td>Gedangan</td>\n",
       "    </tr>\n",
       "    <tr>\n",
       "      <th>3</th>\n",
       "      <td>4</td>\n",
       "      <td>Zhoutian</td>\n",
       "    </tr>\n",
       "    <tr>\n",
       "      <th>4</th>\n",
       "      <td>5</td>\n",
       "      <td>Izhmorskiy</td>\n",
       "    </tr>\n",
       "    <tr>\n",
       "      <th>5</th>\n",
       "      <td>6</td>\n",
       "      <td>Yingkeng</td>\n",
       "    </tr>\n",
       "    <tr>\n",
       "      <th>6</th>\n",
       "      <td>7</td>\n",
       "      <td>Taytay</td>\n",
       "    </tr>\n",
       "    <tr>\n",
       "      <th>7</th>\n",
       "      <td>8</td>\n",
       "      <td>Donglu</td>\n",
       "    </tr>\n",
       "    <tr>\n",
       "      <th>8</th>\n",
       "      <td>9</td>\n",
       "      <td>Nishiwaki</td>\n",
       "    </tr>\n",
       "    <tr>\n",
       "      <th>9</th>\n",
       "      <td>10</td>\n",
       "      <td>Nossa Senhora do Socorro</td>\n",
       "    </tr>\n",
       "  </tbody>\n",
       "</table>\n",
       "</div>"
      ],
      "text/plain": [
       "   id                      name\n",
       "0   1     Yizhang Chengguanzhen\n",
       "1   2                 Il’ichëvo\n",
       "2   3                  Gedangan\n",
       "3   4                  Zhoutian\n",
       "4   5                Izhmorskiy\n",
       "5   6                  Yingkeng\n",
       "6   7                    Taytay\n",
       "7   8                    Donglu\n",
       "8   9                 Nishiwaki\n",
       "9  10  Nossa Senhora do Socorro"
      ]
     },
     "execution_count": 6,
     "metadata": {},
     "output_type": "execute_result"
    }
   ],
   "source": [
    "projects = pd.read_csv('data_old/sc_report_projects.csv')\n",
    "print(projects.shape)\n",
    "projects"
   ]
  },
  {
   "cell_type": "markdown",
   "metadata": {},
   "source": [
    "### Geo maps in Data Studio\n",
    "A Data Studio geo map requires you to provide 3 pieces of information:\n",
    "\n",
    "- a geographic dimension, such as Country, City, Region, etc.\n",
    "- a metric, such as Sessions, Units Sold, Population, etc.\n",
    "- the map's zoom area"
   ]
  },
  {
   "cell_type": "markdown",
   "metadata": {},
   "source": [
    "City = Bangkok"
   ]
  },
  {
   "cell_type": "markdown",
   "metadata": {},
   "source": [
    "1012728\n",
    "Bangkok,Bangkok,Thailand\n",
    "\n",
    "21025\n",
    "Bangkok,Thailand"
   ]
  },
  {
   "cell_type": "markdown",
   "metadata": {},
   "source": [
    "- City\n",
    "- City Code\n",
    "- Metro\n",
    "- Metro Code\n",
    "- Region\n",
    "- Region Code\n",
    "- Latitude, Longitude\n",
    "\n",
    "เขต ประทุมวัน\n",
    "เขต สาธร\n",
    "เขต มีนบุรี\n",
    "เขต จตุจักร\n",
    "เขต บางกระปิ\n",
    "เขต ท่าข้าม\n",
    "เขต บางขุนเทียน\n",
    "เขต ห้วยขวาง\n",
    "เขต วัฒนา\n",
    "เขต จอมทอง"
   ]
  },
  {
   "cell_type": "code",
   "execution_count": 22,
   "metadata": {},
   "outputs": [],
   "source": [
    "projects.to_csv('data_table/project.csv', index = False)"
   ]
  },
  {
   "cell_type": "markdown",
   "metadata": {},
   "source": [
    "# Article"
   ]
  },
  {
   "cell_type": "code",
   "execution_count": 302,
   "metadata": {},
   "outputs": [
    {
     "name": "stdout",
     "output_type": "stream",
     "text": [
      "(100, 7)\n"
     ]
    },
    {
     "data": {
      "text/html": [
       "<div>\n",
       "<style>\n",
       "    .dataframe thead tr:only-child th {\n",
       "        text-align: right;\n",
       "    }\n",
       "\n",
       "    .dataframe thead th {\n",
       "        text-align: left;\n",
       "    }\n",
       "\n",
       "    .dataframe tbody tr th {\n",
       "        vertical-align: top;\n",
       "    }\n",
       "</style>\n",
       "<table border=\"1\" class=\"dataframe\">\n",
       "  <thead>\n",
       "    <tr style=\"text-align: right;\">\n",
       "      <th></th>\n",
       "      <th>id</th>\n",
       "      <th>name</th>\n",
       "      <th>type</th>\n",
       "      <th>read_time</th>\n",
       "      <th>read_lenght</th>\n",
       "      <th>created_at</th>\n",
       "      <th>published_at</th>\n",
       "    </tr>\n",
       "  </thead>\n",
       "  <tbody>\n",
       "    <tr>\n",
       "      <th>0</th>\n",
       "      <td>1</td>\n",
       "      <td>Pont du Nord, Le</td>\n",
       "      <td>etc</td>\n",
       "      <td>385.0</td>\n",
       "      <td>72</td>\n",
       "      <td>2018-03-27 04:39:41</td>\n",
       "      <td>2018-02-13 17:35:39</td>\n",
       "    </tr>\n",
       "    <tr>\n",
       "      <th>1</th>\n",
       "      <td>2</td>\n",
       "      <td>Glass Shield, The</td>\n",
       "      <td>event</td>\n",
       "      <td>311.7</td>\n",
       "      <td>50</td>\n",
       "      <td>2017-08-12 05:40:08</td>\n",
       "      <td>2017-08-17 13:34:08</td>\n",
       "    </tr>\n",
       "    <tr>\n",
       "      <th>2</th>\n",
       "      <td>3</td>\n",
       "      <td>Wizard, The</td>\n",
       "      <td>news</td>\n",
       "      <td>260.1</td>\n",
       "      <td>35</td>\n",
       "      <td>2018-02-16 08:39:45</td>\n",
       "      <td>2017-07-31 02:14:10</td>\n",
       "    </tr>\n",
       "    <tr>\n",
       "      <th>3</th>\n",
       "      <td>4</td>\n",
       "      <td>Marihuana</td>\n",
       "      <td>privilege</td>\n",
       "      <td>286.8</td>\n",
       "      <td>76</td>\n",
       "      <td>2018-03-15 20:57:59</td>\n",
       "      <td>2017-10-20 13:51:06</td>\n",
       "    </tr>\n",
       "    <tr>\n",
       "      <th>4</th>\n",
       "      <td>5</td>\n",
       "      <td>Once Upon a Time in China II (Wong Fei-hung Ji...</td>\n",
       "      <td>etc</td>\n",
       "      <td>650.1</td>\n",
       "      <td>68</td>\n",
       "      <td>2017-05-07 10:39:41</td>\n",
       "      <td>2017-10-18 10:22:59</td>\n",
       "    </tr>\n",
       "  </tbody>\n",
       "</table>\n",
       "</div>"
      ],
      "text/plain": [
       "   id                                               name       type  \\\n",
       "0   1                                   Pont du Nord, Le        etc   \n",
       "1   2                                  Glass Shield, The      event   \n",
       "2   3                                        Wizard, The       news   \n",
       "3   4                                          Marihuana  privilege   \n",
       "4   5  Once Upon a Time in China II (Wong Fei-hung Ji...        etc   \n",
       "\n",
       "   read_time  read_lenght           created_at         published_at  \n",
       "0      385.0           72  2018-03-27 04:39:41  2018-02-13 17:35:39  \n",
       "1      311.7           50  2017-08-12 05:40:08  2017-08-17 13:34:08  \n",
       "2      260.1           35  2018-02-16 08:39:45  2017-07-31 02:14:10  \n",
       "3      286.8           76  2018-03-15 20:57:59  2017-10-20 13:51:06  \n",
       "4      650.1           68  2017-05-07 10:39:41  2017-10-18 10:22:59  "
      ]
     },
     "execution_count": 302,
     "metadata": {},
     "output_type": "execute_result"
    }
   ],
   "source": [
    "articles = pd.read_csv('data_old/sc_report_topics1.csv')\n",
    "print(articles.shape)\n",
    "articles.head()"
   ]
  },
  {
   "cell_type": "code",
   "execution_count": 307,
   "metadata": {},
   "outputs": [],
   "source": [
    "if 'read_lenght' in articles:\n",
    "    del articles['read_lenght']"
   ]
  },
  {
   "cell_type": "code",
   "execution_count": 308,
   "metadata": {},
   "outputs": [
    {
     "data": {
      "text/html": [
       "<div>\n",
       "<style>\n",
       "    .dataframe thead tr:only-child th {\n",
       "        text-align: right;\n",
       "    }\n",
       "\n",
       "    .dataframe thead th {\n",
       "        text-align: left;\n",
       "    }\n",
       "\n",
       "    .dataframe tbody tr th {\n",
       "        vertical-align: top;\n",
       "    }\n",
       "</style>\n",
       "<table border=\"1\" class=\"dataframe\">\n",
       "  <thead>\n",
       "    <tr style=\"text-align: right;\">\n",
       "      <th></th>\n",
       "      <th>id</th>\n",
       "      <th>name</th>\n",
       "      <th>type</th>\n",
       "      <th>read_time</th>\n",
       "      <th>created_at</th>\n",
       "      <th>published_at</th>\n",
       "    </tr>\n",
       "  </thead>\n",
       "  <tbody>\n",
       "    <tr>\n",
       "      <th>0</th>\n",
       "      <td>1</td>\n",
       "      <td>Pont du Nord, Le</td>\n",
       "      <td>etc</td>\n",
       "      <td>385.0</td>\n",
       "      <td>2018-03-27 04:39:41</td>\n",
       "      <td>2018-02-13 17:35:39</td>\n",
       "    </tr>\n",
       "    <tr>\n",
       "      <th>1</th>\n",
       "      <td>2</td>\n",
       "      <td>Glass Shield, The</td>\n",
       "      <td>event</td>\n",
       "      <td>311.7</td>\n",
       "      <td>2017-08-12 05:40:08</td>\n",
       "      <td>2017-08-17 13:34:08</td>\n",
       "    </tr>\n",
       "    <tr>\n",
       "      <th>2</th>\n",
       "      <td>3</td>\n",
       "      <td>Wizard, The</td>\n",
       "      <td>news</td>\n",
       "      <td>260.1</td>\n",
       "      <td>2018-02-16 08:39:45</td>\n",
       "      <td>2017-07-31 02:14:10</td>\n",
       "    </tr>\n",
       "    <tr>\n",
       "      <th>3</th>\n",
       "      <td>4</td>\n",
       "      <td>Marihuana</td>\n",
       "      <td>privilege</td>\n",
       "      <td>286.8</td>\n",
       "      <td>2018-03-15 20:57:59</td>\n",
       "      <td>2017-10-20 13:51:06</td>\n",
       "    </tr>\n",
       "    <tr>\n",
       "      <th>4</th>\n",
       "      <td>5</td>\n",
       "      <td>Once Upon a Time in China II (Wong Fei-hung Ji...</td>\n",
       "      <td>etc</td>\n",
       "      <td>650.1</td>\n",
       "      <td>2017-05-07 10:39:41</td>\n",
       "      <td>2017-10-18 10:22:59</td>\n",
       "    </tr>\n",
       "  </tbody>\n",
       "</table>\n",
       "</div>"
      ],
      "text/plain": [
       "   id                                               name       type  \\\n",
       "0   1                                   Pont du Nord, Le        etc   \n",
       "1   2                                  Glass Shield, The      event   \n",
       "2   3                                        Wizard, The       news   \n",
       "3   4                                          Marihuana  privilege   \n",
       "4   5  Once Upon a Time in China II (Wong Fei-hung Ji...        etc   \n",
       "\n",
       "   read_time           created_at         published_at  \n",
       "0      385.0  2018-03-27 04:39:41  2018-02-13 17:35:39  \n",
       "1      311.7  2017-08-12 05:40:08  2017-08-17 13:34:08  \n",
       "2      260.1  2018-02-16 08:39:45  2017-07-31 02:14:10  \n",
       "3      286.8  2018-03-15 20:57:59  2017-10-20 13:51:06  \n",
       "4      650.1  2017-05-07 10:39:41  2017-10-18 10:22:59  "
      ]
     },
     "execution_count": 308,
     "metadata": {},
     "output_type": "execute_result"
    }
   ],
   "source": [
    "articles.head()"
   ]
  },
  {
   "cell_type": "code",
   "execution_count": 304,
   "metadata": {},
   "outputs": [],
   "source": [
    "articles.to_csv('data_table/article.csv', index = False)"
   ]
  },
  {
   "cell_type": "code",
   "execution_count": 305,
   "metadata": {},
   "outputs": [
    {
     "data": {
      "text/plain": [
       "array([  1,   2,   3,   4,   5,   6,   7,   8,   9,  10,  11,  12,  13,\n",
       "        14,  15,  16,  17,  18,  19,  20,  21,  22,  23,  24,  25,  26,\n",
       "        27,  28,  29,  30,  31,  32,  33,  34,  35,  36,  37,  38,  39,\n",
       "        40,  41,  42,  43,  44,  45,  46,  47,  48,  49,  50,  51,  52,\n",
       "        53,  54,  55,  56,  57,  58,  59,  60,  61,  62,  63,  64,  65,\n",
       "        66,  67,  68,  69,  70,  71,  72,  73,  74,  75,  76,  77,  78,\n",
       "        79,  80,  81,  82,  83,  84,  85,  86,  87,  88,  89,  90,  91,\n",
       "        92,  93,  94,  95,  96,  97,  98,  99, 100])"
      ]
     },
     "execution_count": 305,
     "metadata": {},
     "output_type": "execute_result"
    }
   ],
   "source": [
    "articles['id'].unique()"
   ]
  },
  {
   "cell_type": "code",
   "execution_count": 306,
   "metadata": {},
   "outputs": [
    {
     "data": {
      "text/plain": [
       "id                                1\n",
       "name                    9th Company\n",
       "type                            etc\n",
       "read_time                      15.3\n",
       "created_at      2017-03-30 04:12:04\n",
       "published_at    2017-04-04 03:40:09\n",
       "dtype: object"
      ]
     },
     "execution_count": 306,
     "metadata": {},
     "output_type": "execute_result"
    }
   ],
   "source": [
    "articles.min()"
   ]
  },
  {
   "cell_type": "markdown",
   "metadata": {},
   "source": [
    "# User-Project"
   ]
  },
  {
   "cell_type": "code",
   "execution_count": 33,
   "metadata": {},
   "outputs": [
    {
     "name": "stdout",
     "output_type": "stream",
     "text": [
      "(300, 3)\n"
     ]
    },
    {
     "data": {
      "text/html": [
       "<div>\n",
       "<style>\n",
       "    .dataframe thead tr:only-child th {\n",
       "        text-align: right;\n",
       "    }\n",
       "\n",
       "    .dataframe thead th {\n",
       "        text-align: left;\n",
       "    }\n",
       "\n",
       "    .dataframe tbody tr th {\n",
       "        vertical-align: top;\n",
       "    }\n",
       "</style>\n",
       "<table border=\"1\" class=\"dataframe\">\n",
       "  <thead>\n",
       "    <tr style=\"text-align: right;\">\n",
       "      <th></th>\n",
       "      <th>user_id</th>\n",
       "      <th>project_id</th>\n",
       "      <th>user_type</th>\n",
       "    </tr>\n",
       "  </thead>\n",
       "  <tbody>\n",
       "    <tr>\n",
       "      <th>0</th>\n",
       "      <td>23</td>\n",
       "      <td>7</td>\n",
       "      <td>resident</td>\n",
       "    </tr>\n",
       "    <tr>\n",
       "      <th>1</th>\n",
       "      <td>29</td>\n",
       "      <td>6</td>\n",
       "      <td>guest</td>\n",
       "    </tr>\n",
       "    <tr>\n",
       "      <th>2</th>\n",
       "      <td>52</td>\n",
       "      <td>8</td>\n",
       "      <td>tenant</td>\n",
       "    </tr>\n",
       "    <tr>\n",
       "      <th>3</th>\n",
       "      <td>33</td>\n",
       "      <td>4</td>\n",
       "      <td>resident</td>\n",
       "    </tr>\n",
       "    <tr>\n",
       "      <th>4</th>\n",
       "      <td>26</td>\n",
       "      <td>10</td>\n",
       "      <td>resident</td>\n",
       "    </tr>\n",
       "  </tbody>\n",
       "</table>\n",
       "</div>"
      ],
      "text/plain": [
       "   user_id  project_id user_type\n",
       "0       23           7  resident\n",
       "1       29           6     guest\n",
       "2       52           8    tenant\n",
       "3       33           4  resident\n",
       "4       26          10  resident"
      ]
     },
     "execution_count": 33,
     "metadata": {},
     "output_type": "execute_result"
    }
   ],
   "source": [
    "user_project = pd.read_csv('data_old/user_project.csv')\n",
    "print(user_project.shape)\n",
    "user_project.head()"
   ]
  },
  {
   "cell_type": "code",
   "execution_count": 53,
   "metadata": {},
   "outputs": [
    {
     "data": {
      "text/html": [
       "<div>\n",
       "<style>\n",
       "    .dataframe thead tr:only-child th {\n",
       "        text-align: right;\n",
       "    }\n",
       "\n",
       "    .dataframe thead th {\n",
       "        text-align: left;\n",
       "    }\n",
       "\n",
       "    .dataframe tbody tr th {\n",
       "        vertical-align: top;\n",
       "    }\n",
       "</style>\n",
       "<table border=\"1\" class=\"dataframe\">\n",
       "  <thead>\n",
       "    <tr style=\"text-align: right;\">\n",
       "      <th></th>\n",
       "      <th></th>\n",
       "      <th>user_type</th>\n",
       "    </tr>\n",
       "    <tr>\n",
       "      <th>user_id</th>\n",
       "      <th>project_id</th>\n",
       "      <th></th>\n",
       "    </tr>\n",
       "  </thead>\n",
       "  <tbody>\n",
       "    <tr>\n",
       "      <th rowspan=\"3\" valign=\"top\">1</th>\n",
       "      <th>2</th>\n",
       "      <td>1</td>\n",
       "    </tr>\n",
       "    <tr>\n",
       "      <th>7</th>\n",
       "      <td>1</td>\n",
       "    </tr>\n",
       "    <tr>\n",
       "      <th>9</th>\n",
       "      <td>2</td>\n",
       "    </tr>\n",
       "    <tr>\n",
       "      <th rowspan=\"2\" valign=\"top\">2</th>\n",
       "      <th>2</th>\n",
       "      <td>1</td>\n",
       "    </tr>\n",
       "    <tr>\n",
       "      <th>4</th>\n",
       "      <td>1</td>\n",
       "    </tr>\n",
       "  </tbody>\n",
       "</table>\n",
       "</div>"
      ],
      "text/plain": [
       "                    user_type\n",
       "user_id project_id           \n",
       "1       2                   1\n",
       "        7                   1\n",
       "        9                   2\n",
       "2       2                   1\n",
       "        4                   1"
      ]
     },
     "execution_count": 53,
     "metadata": {},
     "output_type": "execute_result"
    }
   ],
   "source": [
    "user_project_grouped = user_project.groupby(['user_id','project_id']).count()\n",
    "user_project_grouped.head()"
   ]
  },
  {
   "cell_type": "code",
   "execution_count": 69,
   "metadata": {},
   "outputs": [
    {
     "data": {
      "text/html": [
       "<div>\n",
       "<style>\n",
       "    .dataframe thead tr:only-child th {\n",
       "        text-align: right;\n",
       "    }\n",
       "\n",
       "    .dataframe thead th {\n",
       "        text-align: left;\n",
       "    }\n",
       "\n",
       "    .dataframe tbody tr th {\n",
       "        vertical-align: top;\n",
       "    }\n",
       "</style>\n",
       "<table border=\"1\" class=\"dataframe\">\n",
       "  <thead>\n",
       "    <tr style=\"text-align: right;\">\n",
       "      <th></th>\n",
       "      <th></th>\n",
       "      <th>user_type</th>\n",
       "    </tr>\n",
       "    <tr>\n",
       "      <th>user_id</th>\n",
       "      <th>project_id</th>\n",
       "      <th></th>\n",
       "    </tr>\n",
       "  </thead>\n",
       "  <tbody>\n",
       "    <tr>\n",
       "      <th rowspan=\"3\" valign=\"top\">1</th>\n",
       "      <th>2</th>\n",
       "      <td>1</td>\n",
       "    </tr>\n",
       "    <tr>\n",
       "      <th>7</th>\n",
       "      <td>1</td>\n",
       "    </tr>\n",
       "    <tr>\n",
       "      <th>9</th>\n",
       "      <td>1</td>\n",
       "    </tr>\n",
       "    <tr>\n",
       "      <th rowspan=\"2\" valign=\"top\">2</th>\n",
       "      <th>2</th>\n",
       "      <td>1</td>\n",
       "    </tr>\n",
       "    <tr>\n",
       "      <th>4</th>\n",
       "      <td>1</td>\n",
       "    </tr>\n",
       "  </tbody>\n",
       "</table>\n",
       "</div>"
      ],
      "text/plain": [
       "                    user_type\n",
       "user_id project_id           \n",
       "1       2                   1\n",
       "        7                   1\n",
       "        9                   1\n",
       "2       2                   1\n",
       "        4                   1"
      ]
     },
     "execution_count": 69,
     "metadata": {},
     "output_type": "execute_result"
    }
   ],
   "source": [
    "new_user_project = user_project.drop_duplicates(subset=['user_id', 'project_id'], keep='first')\n",
    "new_user_project.groupby(['user_id','project_id']).count().head()"
   ]
  },
  {
   "cell_type": "code",
   "execution_count": 71,
   "metadata": {},
   "outputs": [],
   "source": [
    "new_user_project.to_csv('data_table/user_project.csv', index = False)"
   ]
  },
  {
   "cell_type": "markdown",
   "metadata": {},
   "source": [
    "# Article-Project"
   ]
  },
  {
   "cell_type": "code",
   "execution_count": 73,
   "metadata": {},
   "outputs": [
    {
     "name": "stdout",
     "output_type": "stream",
     "text": [
      "(1000, 2)\n"
     ]
    },
    {
     "data": {
      "text/html": [
       "<div>\n",
       "<style>\n",
       "    .dataframe thead tr:only-child th {\n",
       "        text-align: right;\n",
       "    }\n",
       "\n",
       "    .dataframe thead th {\n",
       "        text-align: left;\n",
       "    }\n",
       "\n",
       "    .dataframe tbody tr th {\n",
       "        vertical-align: top;\n",
       "    }\n",
       "</style>\n",
       "<table border=\"1\" class=\"dataframe\">\n",
       "  <thead>\n",
       "    <tr style=\"text-align: right;\">\n",
       "      <th></th>\n",
       "      <th>article_id</th>\n",
       "      <th>project_id</th>\n",
       "    </tr>\n",
       "  </thead>\n",
       "  <tbody>\n",
       "    <tr>\n",
       "      <th>0</th>\n",
       "      <td>45</td>\n",
       "      <td>2</td>\n",
       "    </tr>\n",
       "    <tr>\n",
       "      <th>1</th>\n",
       "      <td>97</td>\n",
       "      <td>8</td>\n",
       "    </tr>\n",
       "    <tr>\n",
       "      <th>2</th>\n",
       "      <td>91</td>\n",
       "      <td>10</td>\n",
       "    </tr>\n",
       "    <tr>\n",
       "      <th>3</th>\n",
       "      <td>88</td>\n",
       "      <td>10</td>\n",
       "    </tr>\n",
       "    <tr>\n",
       "      <th>4</th>\n",
       "      <td>59</td>\n",
       "      <td>3</td>\n",
       "    </tr>\n",
       "  </tbody>\n",
       "</table>\n",
       "</div>"
      ],
      "text/plain": [
       "   article_id  project_id\n",
       "0          45           2\n",
       "1          97           8\n",
       "2          91          10\n",
       "3          88          10\n",
       "4          59           3"
      ]
     },
     "execution_count": 73,
     "metadata": {},
     "output_type": "execute_result"
    }
   ],
   "source": [
    "article_project = pd.read_csv('data_old/article_project.csv')\n",
    "print(article_project.shape)\n",
    "article_project.head()"
   ]
  },
  {
   "cell_type": "code",
   "execution_count": 80,
   "metadata": {},
   "outputs": [
    {
     "data": {
      "text/plain": [
       "(604, 2)"
      ]
     },
     "execution_count": 80,
     "metadata": {},
     "output_type": "execute_result"
    }
   ],
   "source": [
    "new_article_project = article_project.drop_duplicates(subset=['article_id', 'project_id'], keep='first')\n",
    "new_article_project.shape"
   ]
  },
  {
   "cell_type": "code",
   "execution_count": 81,
   "metadata": {},
   "outputs": [],
   "source": [
    "new_article_project.to_csv('data_table/article_project.csv', index = False)"
   ]
  },
  {
   "cell_type": "markdown",
   "metadata": {},
   "source": [
    "# Seen"
   ]
  },
  {
   "cell_type": "code",
   "execution_count": 101,
   "metadata": {},
   "outputs": [],
   "source": [
    "import random\n",
    "import time\n",
    "\n",
    "def strTimeProp(start, end, format, prop):\n",
    "    \"\"\"Get a time at a proportion of a range of two formatted times.\n",
    "\n",
    "    start and end should be strings specifying times formated in the\n",
    "    given format (strftime-style), giving an interval [start, end].\n",
    "    prop specifies how a proportion of the interval to be taken after\n",
    "    start.  The returned time will be in the specified format.\n",
    "    \"\"\"\n",
    "\n",
    "    stime = time.mktime(time.strptime(start, format))\n",
    "    etime = time.mktime(time.strptime(end, format))\n",
    "\n",
    "    ptime = stime + prop * (etime - stime)\n",
    "\n",
    "    return time.strftime(format, time.localtime(ptime))\n",
    "\n",
    "\n",
    "def randomDate(start, end, prop):\n",
    "    return strTimeProp(start, end, '%Y-%m-%d %H:%M:%S', prop)"
   ]
  },
  {
   "cell_type": "code",
   "execution_count": 118,
   "metadata": {},
   "outputs": [
    {
     "data": {
      "text/html": [
       "<div>\n",
       "<style>\n",
       "    .dataframe thead tr:only-child th {\n",
       "        text-align: right;\n",
       "    }\n",
       "\n",
       "    .dataframe thead th {\n",
       "        text-align: left;\n",
       "    }\n",
       "\n",
       "    .dataframe tbody tr th {\n",
       "        vertical-align: top;\n",
       "    }\n",
       "</style>\n",
       "<table border=\"1\" class=\"dataframe\">\n",
       "  <thead>\n",
       "    <tr style=\"text-align: right;\">\n",
       "      <th></th>\n",
       "      <th>article_id</th>\n",
       "      <th>user_id</th>\n",
       "      <th>seen_at</th>\n",
       "    </tr>\n",
       "  </thead>\n",
       "  <tbody>\n",
       "  </tbody>\n",
       "</table>\n",
       "</div>"
      ],
      "text/plain": [
       "Empty DataFrame\n",
       "Columns: [article_id, user_id, seen_at]\n",
       "Index: []"
      ]
     },
     "execution_count": 118,
     "metadata": {},
     "output_type": "execute_result"
    }
   ],
   "source": [
    "seen = pd.DataFrame(columns=['article_id','user_id','seen_at'])\n",
    "seen"
   ]
  },
  {
   "cell_type": "code",
   "execution_count": 120,
   "metadata": {},
   "outputs": [],
   "source": [
    "from random import randint\n",
    "\n",
    "for i in range(36500):\n",
    "    article_id = randint(1,100)\n",
    "    user_id = randint(1,100)\n",
    "    seen_at = randomDate(\"2017-04-04 04:00:00\", \"2018-04-11 00:00:00\", random.random())\n",
    "    \n",
    "    seen_row = pd.DataFrame([[article_id, user_id, seen_at]], columns=['article_id','user_id','seen_at'])\n",
    "    seen = seen.append(seen_row, ignore_index=True)"
   ]
  },
  {
   "cell_type": "code",
   "execution_count": 121,
   "metadata": {},
   "outputs": [
    {
     "name": "stdout",
     "output_type": "stream",
     "text": [
      "(36500, 3)\n"
     ]
    },
    {
     "data": {
      "text/html": [
       "<div>\n",
       "<style>\n",
       "    .dataframe thead tr:only-child th {\n",
       "        text-align: right;\n",
       "    }\n",
       "\n",
       "    .dataframe thead th {\n",
       "        text-align: left;\n",
       "    }\n",
       "\n",
       "    .dataframe tbody tr th {\n",
       "        vertical-align: top;\n",
       "    }\n",
       "</style>\n",
       "<table border=\"1\" class=\"dataframe\">\n",
       "  <thead>\n",
       "    <tr style=\"text-align: right;\">\n",
       "      <th></th>\n",
       "      <th>article_id</th>\n",
       "      <th>user_id</th>\n",
       "      <th>seen_at</th>\n",
       "    </tr>\n",
       "  </thead>\n",
       "  <tbody>\n",
       "    <tr>\n",
       "      <th>0</th>\n",
       "      <td>34</td>\n",
       "      <td>27</td>\n",
       "      <td>2017-10-27 18:44:18</td>\n",
       "    </tr>\n",
       "    <tr>\n",
       "      <th>1</th>\n",
       "      <td>78</td>\n",
       "      <td>32</td>\n",
       "      <td>2018-01-12 00:03:53</td>\n",
       "    </tr>\n",
       "    <tr>\n",
       "      <th>2</th>\n",
       "      <td>58</td>\n",
       "      <td>97</td>\n",
       "      <td>2018-04-02 18:11:07</td>\n",
       "    </tr>\n",
       "    <tr>\n",
       "      <th>3</th>\n",
       "      <td>89</td>\n",
       "      <td>27</td>\n",
       "      <td>2017-07-21 21:26:31</td>\n",
       "    </tr>\n",
       "    <tr>\n",
       "      <th>4</th>\n",
       "      <td>70</td>\n",
       "      <td>72</td>\n",
       "      <td>2018-01-28 14:19:25</td>\n",
       "    </tr>\n",
       "  </tbody>\n",
       "</table>\n",
       "</div>"
      ],
      "text/plain": [
       "  article_id user_id              seen_at\n",
       "0         34      27  2017-10-27 18:44:18\n",
       "1         78      32  2018-01-12 00:03:53\n",
       "2         58      97  2018-04-02 18:11:07\n",
       "3         89      27  2017-07-21 21:26:31\n",
       "4         70      72  2018-01-28 14:19:25"
      ]
     },
     "execution_count": 121,
     "metadata": {},
     "output_type": "execute_result"
    }
   ],
   "source": [
    "print(seen.shape)\n",
    "seen.head()"
   ]
  },
  {
   "cell_type": "markdown",
   "metadata": {},
   "source": [
    "คนจะเห็นข่าวได้ต้องอยู่ในโครงการที่ข่าวประกาศไป จะได้จำนวนคนที่มีโอกาสเห็นข่าวจากแต่ละโครงการจากการเอา ตาราง **article_project** ไป merge กับ **user_project**"
   ]
  },
  {
   "cell_type": "code",
   "execution_count": 175,
   "metadata": {},
   "outputs": [
    {
     "data": {
      "text/plain": [
       "project_id\n",
       "1     1701\n",
       "2     1650\n",
       "3     1525\n",
       "4     1265\n",
       "5     1690\n",
       "6     1378\n",
       "7     1265\n",
       "8     1708\n",
       "9     1711\n",
       "10    1914\n",
       "Name: user_id, dtype: int64"
      ]
     },
     "execution_count": 175,
     "metadata": {},
     "output_type": "execute_result"
    }
   ],
   "source": [
    "article_project_user = pd.merge(new_article_project, new_user_project, on='project_id')\n",
    "article_project_user.groupby('project_id')['user_id'].count()"
   ]
  },
  {
   "cell_type": "markdown",
   "metadata": {},
   "source": [
    "ตัวเลขที่เห็นนี้คือจำนวนคนที่มีโอกาสเห็นข่าวจากแต่ละโครงการรวม All time"
   ]
  },
  {
   "cell_type": "code",
   "execution_count": 180,
   "metadata": {},
   "outputs": [
    {
     "data": {
      "text/html": [
       "<div>\n",
       "<style>\n",
       "    .dataframe thead tr:only-child th {\n",
       "        text-align: right;\n",
       "    }\n",
       "\n",
       "    .dataframe thead th {\n",
       "        text-align: left;\n",
       "    }\n",
       "\n",
       "    .dataframe tbody tr th {\n",
       "        vertical-align: top;\n",
       "    }\n",
       "</style>\n",
       "<table border=\"1\" class=\"dataframe\">\n",
       "  <thead>\n",
       "    <tr style=\"text-align: right;\">\n",
       "      <th></th>\n",
       "      <th>article_id</th>\n",
       "      <th>project_id</th>\n",
       "      <th>user_id</th>\n",
       "      <th>user_type</th>\n",
       "    </tr>\n",
       "  </thead>\n",
       "  <tbody>\n",
       "    <tr>\n",
       "      <th>0</th>\n",
       "      <td>45</td>\n",
       "      <td>2</td>\n",
       "      <td>93</td>\n",
       "      <td>owner</td>\n",
       "    </tr>\n",
       "    <tr>\n",
       "      <th>1</th>\n",
       "      <td>45</td>\n",
       "      <td>2</td>\n",
       "      <td>78</td>\n",
       "      <td>resident</td>\n",
       "    </tr>\n",
       "    <tr>\n",
       "      <th>2</th>\n",
       "      <td>45</td>\n",
       "      <td>2</td>\n",
       "      <td>56</td>\n",
       "      <td>guest</td>\n",
       "    </tr>\n",
       "    <tr>\n",
       "      <th>3</th>\n",
       "      <td>45</td>\n",
       "      <td>2</td>\n",
       "      <td>98</td>\n",
       "      <td>resident</td>\n",
       "    </tr>\n",
       "    <tr>\n",
       "      <th>4</th>\n",
       "      <td>45</td>\n",
       "      <td>2</td>\n",
       "      <td>54</td>\n",
       "      <td>tenant</td>\n",
       "    </tr>\n",
       "  </tbody>\n",
       "</table>\n",
       "</div>"
      ],
      "text/plain": [
       "   article_id  project_id  user_id user_type\n",
       "0          45           2       93     owner\n",
       "1          45           2       78  resident\n",
       "2          45           2       56     guest\n",
       "3          45           2       98  resident\n",
       "4          45           2       54    tenant"
      ]
     },
     "execution_count": 180,
     "metadata": {},
     "output_type": "execute_result"
    }
   ],
   "source": [
    "article_project_user.head()"
   ]
  },
  {
   "cell_type": "markdown",
   "metadata": {},
   "source": [
    "เมื่อผนวกข้อมูลว่าข่าวประกาศไปโครงการไหนบ้าง กับใครอยู่ในโครงการนั้นบ้าง แล้วคนในโครงการใครบ้างที่เห็นข่าว จะได้จำนวนดังนั้นคนเห็นข่าวจริงๆ ดังนี้"
   ]
  },
  {
   "cell_type": "code",
   "execution_count": 188,
   "metadata": {},
   "outputs": [
    {
     "name": "stdout",
     "output_type": "stream",
     "text": [
      "(57730, 5)\n"
     ]
    },
    {
     "data": {
      "text/html": [
       "<div>\n",
       "<style>\n",
       "    .dataframe thead tr:only-child th {\n",
       "        text-align: right;\n",
       "    }\n",
       "\n",
       "    .dataframe thead th {\n",
       "        text-align: left;\n",
       "    }\n",
       "\n",
       "    .dataframe tbody tr th {\n",
       "        vertical-align: top;\n",
       "    }\n",
       "</style>\n",
       "<table border=\"1\" class=\"dataframe\">\n",
       "  <thead>\n",
       "    <tr style=\"text-align: right;\">\n",
       "      <th></th>\n",
       "      <th>article_id</th>\n",
       "      <th>project_id</th>\n",
       "      <th>user_id</th>\n",
       "      <th>user_type</th>\n",
       "      <th>seen_at</th>\n",
       "    </tr>\n",
       "  </thead>\n",
       "  <tbody>\n",
       "    <tr>\n",
       "      <th>0</th>\n",
       "      <td>45</td>\n",
       "      <td>2</td>\n",
       "      <td>93</td>\n",
       "      <td>owner</td>\n",
       "      <td>2017-10-29 08:17:51</td>\n",
       "    </tr>\n",
       "    <tr>\n",
       "      <th>1</th>\n",
       "      <td>45</td>\n",
       "      <td>2</td>\n",
       "      <td>93</td>\n",
       "      <td>owner</td>\n",
       "      <td>2017-04-28 05:54:41</td>\n",
       "    </tr>\n",
       "    <tr>\n",
       "      <th>2</th>\n",
       "      <td>45</td>\n",
       "      <td>10</td>\n",
       "      <td>93</td>\n",
       "      <td>owner</td>\n",
       "      <td>2017-10-29 08:17:51</td>\n",
       "    </tr>\n",
       "    <tr>\n",
       "      <th>3</th>\n",
       "      <td>45</td>\n",
       "      <td>10</td>\n",
       "      <td>93</td>\n",
       "      <td>owner</td>\n",
       "      <td>2017-04-28 05:54:41</td>\n",
       "    </tr>\n",
       "    <tr>\n",
       "      <th>4</th>\n",
       "      <td>45</td>\n",
       "      <td>3</td>\n",
       "      <td>93</td>\n",
       "      <td>owner</td>\n",
       "      <td>2017-10-29 08:17:51</td>\n",
       "    </tr>\n",
       "  </tbody>\n",
       "</table>\n",
       "</div>"
      ],
      "text/plain": [
       "  article_id  project_id user_id user_type              seen_at\n",
       "0         45           2      93     owner  2017-10-29 08:17:51\n",
       "1         45           2      93     owner  2017-04-28 05:54:41\n",
       "2         45          10      93     owner  2017-10-29 08:17:51\n",
       "3         45          10      93     owner  2017-04-28 05:54:41\n",
       "4         45           3      93     owner  2017-10-29 08:17:51"
      ]
     },
     "execution_count": 188,
     "metadata": {},
     "output_type": "execute_result"
    }
   ],
   "source": [
    "is_seen = pd.merge(article_project_user, seen,  how='inner', left_on=['article_id','user_id'], right_on = ['article_id','user_id'])\n",
    "print(is_seen.shape)\n",
    "is_seen.head() "
   ]
  },
  {
   "cell_type": "markdown",
   "metadata": {},
   "source": [
    "ลบแถวที่ซ้ำออก (อย่างอื่นซ้ำหมดแต่มี seen_at ไม่ตรงกัน)"
   ]
  },
  {
   "cell_type": "code",
   "execution_count": 189,
   "metadata": {},
   "outputs": [
    {
     "name": "stdout",
     "output_type": "stream",
     "text": [
      "(15397, 5)\n"
     ]
    },
    {
     "data": {
      "text/html": [
       "<div>\n",
       "<style>\n",
       "    .dataframe thead tr:only-child th {\n",
       "        text-align: right;\n",
       "    }\n",
       "\n",
       "    .dataframe thead th {\n",
       "        text-align: left;\n",
       "    }\n",
       "\n",
       "    .dataframe tbody tr th {\n",
       "        vertical-align: top;\n",
       "    }\n",
       "</style>\n",
       "<table border=\"1\" class=\"dataframe\">\n",
       "  <thead>\n",
       "    <tr style=\"text-align: right;\">\n",
       "      <th></th>\n",
       "      <th>article_id</th>\n",
       "      <th>project_id</th>\n",
       "      <th>user_id</th>\n",
       "      <th>user_type</th>\n",
       "      <th>seen_at</th>\n",
       "    </tr>\n",
       "  </thead>\n",
       "  <tbody>\n",
       "    <tr>\n",
       "      <th>0</th>\n",
       "      <td>45</td>\n",
       "      <td>2</td>\n",
       "      <td>93</td>\n",
       "      <td>owner</td>\n",
       "      <td>2017-10-29 08:17:51</td>\n",
       "    </tr>\n",
       "    <tr>\n",
       "      <th>2</th>\n",
       "      <td>45</td>\n",
       "      <td>10</td>\n",
       "      <td>93</td>\n",
       "      <td>owner</td>\n",
       "      <td>2017-10-29 08:17:51</td>\n",
       "    </tr>\n",
       "    <tr>\n",
       "      <th>4</th>\n",
       "      <td>45</td>\n",
       "      <td>3</td>\n",
       "      <td>93</td>\n",
       "      <td>owner</td>\n",
       "      <td>2017-10-29 08:17:51</td>\n",
       "    </tr>\n",
       "    <tr>\n",
       "      <th>6</th>\n",
       "      <td>45</td>\n",
       "      <td>2</td>\n",
       "      <td>78</td>\n",
       "      <td>resident</td>\n",
       "      <td>2018-02-16 04:58:48</td>\n",
       "    </tr>\n",
       "    <tr>\n",
       "      <th>9</th>\n",
       "      <td>45</td>\n",
       "      <td>10</td>\n",
       "      <td>78</td>\n",
       "      <td>guest</td>\n",
       "      <td>2018-02-16 04:58:48</td>\n",
       "    </tr>\n",
       "  </tbody>\n",
       "</table>\n",
       "</div>"
      ],
      "text/plain": [
       "  article_id  project_id user_id user_type              seen_at\n",
       "0         45           2      93     owner  2017-10-29 08:17:51\n",
       "2         45          10      93     owner  2017-10-29 08:17:51\n",
       "4         45           3      93     owner  2017-10-29 08:17:51\n",
       "6         45           2      78  resident  2018-02-16 04:58:48\n",
       "9         45          10      78     guest  2018-02-16 04:58:48"
      ]
     },
     "execution_count": 189,
     "metadata": {},
     "output_type": "execute_result"
    }
   ],
   "source": [
    "is_seen = is_seen.drop_duplicates(subset=['article_id', 'project_id', 'user_id', 'user_type'], keep='first')\n",
    "print(is_seen.shape)\n",
    "is_seen.head() "
   ]
  },
  {
   "cell_type": "code",
   "execution_count": 190,
   "metadata": {},
   "outputs": [],
   "source": [
    "is_seen.to_csv('data_table/seen.csv', index = False)"
   ]
  },
  {
   "cell_type": "markdown",
   "metadata": {},
   "source": [
    "# Click"
   ]
  },
  {
   "cell_type": "markdown",
   "metadata": {},
   "source": [
    "click อาจจะเป็น sampling ของ seen (กรณีที่เข้าได้จากทาง app อย่างเดียว) เอาสัก 40%"
   ]
  },
  {
   "cell_type": "code",
   "execution_count": 221,
   "metadata": {},
   "outputs": [
    {
     "name": "stdout",
     "output_type": "stream",
     "text": [
      "(14600, 3)\n"
     ]
    },
    {
     "data": {
      "text/html": [
       "<div>\n",
       "<style>\n",
       "    .dataframe thead tr:only-child th {\n",
       "        text-align: right;\n",
       "    }\n",
       "\n",
       "    .dataframe thead th {\n",
       "        text-align: left;\n",
       "    }\n",
       "\n",
       "    .dataframe tbody tr th {\n",
       "        vertical-align: top;\n",
       "    }\n",
       "</style>\n",
       "<table border=\"1\" class=\"dataframe\">\n",
       "  <thead>\n",
       "    <tr style=\"text-align: right;\">\n",
       "      <th></th>\n",
       "      <th>article_id</th>\n",
       "      <th>user_id</th>\n",
       "      <th>seen_at</th>\n",
       "    </tr>\n",
       "  </thead>\n",
       "  <tbody>\n",
       "    <tr>\n",
       "      <th>1957</th>\n",
       "      <td>49</td>\n",
       "      <td>6</td>\n",
       "      <td>2018-02-06 07:12:33</td>\n",
       "    </tr>\n",
       "    <tr>\n",
       "      <th>8771</th>\n",
       "      <td>61</td>\n",
       "      <td>13</td>\n",
       "      <td>2018-03-28 16:08:39</td>\n",
       "    </tr>\n",
       "    <tr>\n",
       "      <th>30532</th>\n",
       "      <td>41</td>\n",
       "      <td>32</td>\n",
       "      <td>2017-07-27 09:02:37</td>\n",
       "    </tr>\n",
       "    <tr>\n",
       "      <th>68</th>\n",
       "      <td>67</td>\n",
       "      <td>97</td>\n",
       "      <td>2017-05-31 11:31:40</td>\n",
       "    </tr>\n",
       "    <tr>\n",
       "      <th>7973</th>\n",
       "      <td>90</td>\n",
       "      <td>16</td>\n",
       "      <td>2017-11-03 07:47:23</td>\n",
       "    </tr>\n",
       "  </tbody>\n",
       "</table>\n",
       "</div>"
      ],
      "text/plain": [
       "      article_id user_id              seen_at\n",
       "1957          49       6  2018-02-06 07:12:33\n",
       "8771          61      13  2018-03-28 16:08:39\n",
       "30532         41      32  2017-07-27 09:02:37\n",
       "68            67      97  2017-05-31 11:31:40\n",
       "7973          90      16  2017-11-03 07:47:23"
      ]
     },
     "execution_count": 221,
     "metadata": {},
     "output_type": "execute_result"
    }
   ],
   "source": [
    "click = seen.sample(frac=0.4)\n",
    "print(click.shape)\n",
    "click.head()"
   ]
  },
  {
   "cell_type": "markdown",
   "metadata": {},
   "source": [
    "แล้วทำแบบ Seen"
   ]
  },
  {
   "cell_type": "code",
   "execution_count": 247,
   "metadata": {},
   "outputs": [
    {
     "name": "stdout",
     "output_type": "stream",
     "text": [
      "(23176, 5)\n"
     ]
    },
    {
     "data": {
      "text/html": [
       "<div>\n",
       "<style>\n",
       "    .dataframe thead tr:only-child th {\n",
       "        text-align: right;\n",
       "    }\n",
       "\n",
       "    .dataframe thead th {\n",
       "        text-align: left;\n",
       "    }\n",
       "\n",
       "    .dataframe tbody tr th {\n",
       "        vertical-align: top;\n",
       "    }\n",
       "</style>\n",
       "<table border=\"1\" class=\"dataframe\">\n",
       "  <thead>\n",
       "    <tr style=\"text-align: right;\">\n",
       "      <th></th>\n",
       "      <th>article_id</th>\n",
       "      <th>project_id</th>\n",
       "      <th>user_id</th>\n",
       "      <th>user_type</th>\n",
       "      <th>seen_at</th>\n",
       "    </tr>\n",
       "  </thead>\n",
       "  <tbody>\n",
       "    <tr>\n",
       "      <th>0</th>\n",
       "      <td>45</td>\n",
       "      <td>2</td>\n",
       "      <td>78</td>\n",
       "      <td>resident</td>\n",
       "      <td>2017-06-27 01:20:13</td>\n",
       "    </tr>\n",
       "    <tr>\n",
       "      <th>1</th>\n",
       "      <td>45</td>\n",
       "      <td>2</td>\n",
       "      <td>78</td>\n",
       "      <td>resident</td>\n",
       "      <td>2017-08-07 14:43:44</td>\n",
       "    </tr>\n",
       "    <tr>\n",
       "      <th>2</th>\n",
       "      <td>45</td>\n",
       "      <td>2</td>\n",
       "      <td>78</td>\n",
       "      <td>resident</td>\n",
       "      <td>2018-02-16 04:58:48</td>\n",
       "    </tr>\n",
       "    <tr>\n",
       "      <th>3</th>\n",
       "      <td>45</td>\n",
       "      <td>10</td>\n",
       "      <td>78</td>\n",
       "      <td>guest</td>\n",
       "      <td>2017-06-27 01:20:13</td>\n",
       "    </tr>\n",
       "    <tr>\n",
       "      <th>4</th>\n",
       "      <td>45</td>\n",
       "      <td>10</td>\n",
       "      <td>78</td>\n",
       "      <td>guest</td>\n",
       "      <td>2017-08-07 14:43:44</td>\n",
       "    </tr>\n",
       "  </tbody>\n",
       "</table>\n",
       "</div>"
      ],
      "text/plain": [
       "  article_id  project_id user_id user_type              seen_at\n",
       "0         45           2      78  resident  2017-06-27 01:20:13\n",
       "1         45           2      78  resident  2017-08-07 14:43:44\n",
       "2         45           2      78  resident  2018-02-16 04:58:48\n",
       "3         45          10      78     guest  2017-06-27 01:20:13\n",
       "4         45          10      78     guest  2017-08-07 14:43:44"
      ]
     },
     "execution_count": 247,
     "metadata": {},
     "output_type": "execute_result"
    }
   ],
   "source": [
    "is_click = pd.merge(article_project_user, click,  how='inner', left_on=['article_id','user_id'], right_on = ['article_id','user_id'])\n",
    "print(is_click.shape)\n",
    "is_click.head() "
   ]
  },
  {
   "cell_type": "markdown",
   "metadata": {},
   "source": [
    "เพิ่มเวลา click ให้หน่อย"
   ]
  },
  {
   "cell_type": "code",
   "execution_count": 245,
   "metadata": {},
   "outputs": [],
   "source": [
    "from datetime import datetime  \n",
    "from datetime import timedelta\n",
    "from random import randint\n",
    "\n",
    "def addRandomMinute(time,max_minute):\n",
    "    now = datetime.strptime(time,'%Y-%m-%d %H:%M:%S')\n",
    "    now_plus_minute = now + timedelta(minutes = randint(1,max_minute))\n",
    "    return now_plus_minute.strftime('%Y-%m-%d %H:%M:%S')"
   ]
  },
  {
   "cell_type": "code",
   "execution_count": 244,
   "metadata": {},
   "outputs": [
    {
     "data": {
      "text/plain": [
       "'2018-01-02 12:05:00'"
      ]
     },
     "execution_count": 244,
     "metadata": {},
     "output_type": "execute_result"
    }
   ],
   "source": [
    "addRandomMinute('2018-01-02 11:59:00',10)"
   ]
  },
  {
   "cell_type": "code",
   "execution_count": 262,
   "metadata": {},
   "outputs": [
    {
     "data": {
      "text/html": [
       "<div>\n",
       "<style>\n",
       "    .dataframe thead tr:only-child th {\n",
       "        text-align: right;\n",
       "    }\n",
       "\n",
       "    .dataframe thead th {\n",
       "        text-align: left;\n",
       "    }\n",
       "\n",
       "    .dataframe tbody tr th {\n",
       "        vertical-align: top;\n",
       "    }\n",
       "</style>\n",
       "<table border=\"1\" class=\"dataframe\">\n",
       "  <thead>\n",
       "    <tr style=\"text-align: right;\">\n",
       "      <th></th>\n",
       "      <th>article_id</th>\n",
       "      <th>project_id</th>\n",
       "      <th>user_id</th>\n",
       "      <th>user_type</th>\n",
       "      <th>clicked_at</th>\n",
       "    </tr>\n",
       "  </thead>\n",
       "  <tbody>\n",
       "    <tr>\n",
       "      <th>0</th>\n",
       "      <td>45</td>\n",
       "      <td>2</td>\n",
       "      <td>78</td>\n",
       "      <td>resident</td>\n",
       "      <td>2017-06-27 01:30:13</td>\n",
       "    </tr>\n",
       "    <tr>\n",
       "      <th>1</th>\n",
       "      <td>45</td>\n",
       "      <td>2</td>\n",
       "      <td>78</td>\n",
       "      <td>resident</td>\n",
       "      <td>2017-08-07 14:48:44</td>\n",
       "    </tr>\n",
       "    <tr>\n",
       "      <th>2</th>\n",
       "      <td>45</td>\n",
       "      <td>2</td>\n",
       "      <td>78</td>\n",
       "      <td>resident</td>\n",
       "      <td>2018-02-16 05:02:48</td>\n",
       "    </tr>\n",
       "    <tr>\n",
       "      <th>3</th>\n",
       "      <td>45</td>\n",
       "      <td>10</td>\n",
       "      <td>78</td>\n",
       "      <td>guest</td>\n",
       "      <td>2017-06-27 01:23:13</td>\n",
       "    </tr>\n",
       "    <tr>\n",
       "      <th>4</th>\n",
       "      <td>45</td>\n",
       "      <td>10</td>\n",
       "      <td>78</td>\n",
       "      <td>guest</td>\n",
       "      <td>2017-08-07 14:47:44</td>\n",
       "    </tr>\n",
       "  </tbody>\n",
       "</table>\n",
       "</div>"
      ],
      "text/plain": [
       "  article_id  project_id user_id user_type           clicked_at\n",
       "0         45           2      78  resident  2017-06-27 01:30:13\n",
       "1         45           2      78  resident  2017-08-07 14:48:44\n",
       "2         45           2      78  resident  2018-02-16 05:02:48\n",
       "3         45          10      78     guest  2017-06-27 01:23:13\n",
       "4         45          10      78     guest  2017-08-07 14:47:44"
      ]
     },
     "execution_count": 262,
     "metadata": {},
     "output_type": "execute_result"
    }
   ],
   "source": [
    "new_is_click = is_click[:]\n",
    "new_is_click['seen_at'] = is_click['seen_at'].apply(addRandomMinute, args=(10,))\n",
    "new_is_click = new_is_click.rename(columns={'seen_at': 'clicked_at'})\n",
    "new_is_click.head()"
   ]
  },
  {
   "cell_type": "code",
   "execution_count": 263,
   "metadata": {},
   "outputs": [],
   "source": [
    "new_is_click.to_csv('data_table/click.csv', index = False)"
   ]
  },
  {
   "cell_type": "markdown",
   "metadata": {},
   "source": [
    "# Read"
   ]
  },
  {
   "cell_type": "markdown",
   "metadata": {},
   "source": [
    "read เป็น sampling ของ click เอาสัก 70%"
   ]
  },
  {
   "cell_type": "code",
   "execution_count": 264,
   "metadata": {},
   "outputs": [
    {
     "name": "stdout",
     "output_type": "stream",
     "text": [
      "(10220, 3)\n"
     ]
    },
    {
     "data": {
      "text/html": [
       "<div>\n",
       "<style>\n",
       "    .dataframe thead tr:only-child th {\n",
       "        text-align: right;\n",
       "    }\n",
       "\n",
       "    .dataframe thead th {\n",
       "        text-align: left;\n",
       "    }\n",
       "\n",
       "    .dataframe tbody tr th {\n",
       "        vertical-align: top;\n",
       "    }\n",
       "</style>\n",
       "<table border=\"1\" class=\"dataframe\">\n",
       "  <thead>\n",
       "    <tr style=\"text-align: right;\">\n",
       "      <th></th>\n",
       "      <th>article_id</th>\n",
       "      <th>user_id</th>\n",
       "      <th>seen_at</th>\n",
       "    </tr>\n",
       "  </thead>\n",
       "  <tbody>\n",
       "    <tr>\n",
       "      <th>26368</th>\n",
       "      <td>71</td>\n",
       "      <td>88</td>\n",
       "      <td>2017-05-27 00:22:59</td>\n",
       "    </tr>\n",
       "    <tr>\n",
       "      <th>29487</th>\n",
       "      <td>33</td>\n",
       "      <td>91</td>\n",
       "      <td>2017-08-26 21:58:07</td>\n",
       "    </tr>\n",
       "    <tr>\n",
       "      <th>1240</th>\n",
       "      <td>95</td>\n",
       "      <td>2</td>\n",
       "      <td>2017-10-01 23:21:47</td>\n",
       "    </tr>\n",
       "    <tr>\n",
       "      <th>25391</th>\n",
       "      <td>22</td>\n",
       "      <td>80</td>\n",
       "      <td>2018-03-19 13:35:06</td>\n",
       "    </tr>\n",
       "    <tr>\n",
       "      <th>25471</th>\n",
       "      <td>61</td>\n",
       "      <td>72</td>\n",
       "      <td>2018-03-13 06:53:12</td>\n",
       "    </tr>\n",
       "  </tbody>\n",
       "</table>\n",
       "</div>"
      ],
      "text/plain": [
       "      article_id user_id              seen_at\n",
       "26368         71      88  2017-05-27 00:22:59\n",
       "29487         33      91  2017-08-26 21:58:07\n",
       "1240          95       2  2017-10-01 23:21:47\n",
       "25391         22      80  2018-03-19 13:35:06\n",
       "25471         61      72  2018-03-13 06:53:12"
      ]
     },
     "execution_count": 264,
     "metadata": {},
     "output_type": "execute_result"
    }
   ],
   "source": [
    "read = click.sample(frac=0.7)\n",
    "print(read.shape)\n",
    "read.head()"
   ]
  },
  {
   "cell_type": "markdown",
   "metadata": {},
   "source": [
    "แล้วทำแบบ Seen"
   ]
  },
  {
   "cell_type": "code",
   "execution_count": 266,
   "metadata": {},
   "outputs": [
    {
     "name": "stdout",
     "output_type": "stream",
     "text": [
      "(16227, 5)\n"
     ]
    },
    {
     "data": {
      "text/html": [
       "<div>\n",
       "<style>\n",
       "    .dataframe thead tr:only-child th {\n",
       "        text-align: right;\n",
       "    }\n",
       "\n",
       "    .dataframe thead th {\n",
       "        text-align: left;\n",
       "    }\n",
       "\n",
       "    .dataframe tbody tr th {\n",
       "        vertical-align: top;\n",
       "    }\n",
       "</style>\n",
       "<table border=\"1\" class=\"dataframe\">\n",
       "  <thead>\n",
       "    <tr style=\"text-align: right;\">\n",
       "      <th></th>\n",
       "      <th>article_id</th>\n",
       "      <th>project_id</th>\n",
       "      <th>user_id</th>\n",
       "      <th>user_type</th>\n",
       "      <th>seen_at</th>\n",
       "    </tr>\n",
       "  </thead>\n",
       "  <tbody>\n",
       "    <tr>\n",
       "      <th>0</th>\n",
       "      <td>45</td>\n",
       "      <td>2</td>\n",
       "      <td>78</td>\n",
       "      <td>resident</td>\n",
       "      <td>2017-06-27 01:20:13</td>\n",
       "    </tr>\n",
       "    <tr>\n",
       "      <th>1</th>\n",
       "      <td>45</td>\n",
       "      <td>2</td>\n",
       "      <td>78</td>\n",
       "      <td>resident</td>\n",
       "      <td>2018-02-16 04:58:48</td>\n",
       "    </tr>\n",
       "    <tr>\n",
       "      <th>2</th>\n",
       "      <td>45</td>\n",
       "      <td>10</td>\n",
       "      <td>78</td>\n",
       "      <td>guest</td>\n",
       "      <td>2017-06-27 01:20:13</td>\n",
       "    </tr>\n",
       "    <tr>\n",
       "      <th>3</th>\n",
       "      <td>45</td>\n",
       "      <td>10</td>\n",
       "      <td>78</td>\n",
       "      <td>guest</td>\n",
       "      <td>2018-02-16 04:58:48</td>\n",
       "    </tr>\n",
       "    <tr>\n",
       "      <th>4</th>\n",
       "      <td>45</td>\n",
       "      <td>2</td>\n",
       "      <td>56</td>\n",
       "      <td>guest</td>\n",
       "      <td>2017-04-08 01:16:21</td>\n",
       "    </tr>\n",
       "  </tbody>\n",
       "</table>\n",
       "</div>"
      ],
      "text/plain": [
       "  article_id  project_id user_id user_type              seen_at\n",
       "0         45           2      78  resident  2017-06-27 01:20:13\n",
       "1         45           2      78  resident  2018-02-16 04:58:48\n",
       "2         45          10      78     guest  2017-06-27 01:20:13\n",
       "3         45          10      78     guest  2018-02-16 04:58:48\n",
       "4         45           2      56     guest  2017-04-08 01:16:21"
      ]
     },
     "execution_count": 266,
     "metadata": {},
     "output_type": "execute_result"
    }
   ],
   "source": [
    "is_read = pd.merge(article_project_user, read,  how='inner', left_on=['article_id','user_id'], right_on = ['article_id','user_id'])\n",
    "print(is_read.shape)\n",
    "is_read.head() "
   ]
  },
  {
   "cell_type": "markdown",
   "metadata": {},
   "source": [
    "เพิ่ม column read_time(0-1200 วินาที), read_length(0-100%)"
   ]
  },
  {
   "cell_type": "code",
   "execution_count": 283,
   "metadata": {},
   "outputs": [],
   "source": [
    "import numpy as np\n",
    "len(is_read)\n",
    "\n",
    "read_times = np.array([])\n",
    "read_lengths = np.array([])\n",
    "for i in range(len(is_read)):\n",
    "    read_times = np.append(read_times,[randint(0,1200)])\n",
    "    read_lengths = np.append(read_lengths,[randint(0,100)])\n",
    "    \n",
    "is_read['read_time'] = read_times\n",
    "is_read['read_length'] = read_lengths"
   ]
  },
  {
   "cell_type": "code",
   "execution_count": 286,
   "metadata": {},
   "outputs": [],
   "source": [
    "if 'seen_at' in is_read:\n",
    "    del is_read['seen_at'] "
   ]
  },
  {
   "cell_type": "code",
   "execution_count": 287,
   "metadata": {},
   "outputs": [
    {
     "data": {
      "text/html": [
       "<div>\n",
       "<style>\n",
       "    .dataframe thead tr:only-child th {\n",
       "        text-align: right;\n",
       "    }\n",
       "\n",
       "    .dataframe thead th {\n",
       "        text-align: left;\n",
       "    }\n",
       "\n",
       "    .dataframe tbody tr th {\n",
       "        vertical-align: top;\n",
       "    }\n",
       "</style>\n",
       "<table border=\"1\" class=\"dataframe\">\n",
       "  <thead>\n",
       "    <tr style=\"text-align: right;\">\n",
       "      <th></th>\n",
       "      <th>article_id</th>\n",
       "      <th>project_id</th>\n",
       "      <th>user_id</th>\n",
       "      <th>user_type</th>\n",
       "      <th>read_time</th>\n",
       "      <th>read_length</th>\n",
       "    </tr>\n",
       "  </thead>\n",
       "  <tbody>\n",
       "    <tr>\n",
       "      <th>0</th>\n",
       "      <td>45</td>\n",
       "      <td>2</td>\n",
       "      <td>78</td>\n",
       "      <td>resident</td>\n",
       "      <td>753.0</td>\n",
       "      <td>30.0</td>\n",
       "    </tr>\n",
       "    <tr>\n",
       "      <th>1</th>\n",
       "      <td>45</td>\n",
       "      <td>2</td>\n",
       "      <td>78</td>\n",
       "      <td>resident</td>\n",
       "      <td>1076.0</td>\n",
       "      <td>5.0</td>\n",
       "    </tr>\n",
       "    <tr>\n",
       "      <th>2</th>\n",
       "      <td>45</td>\n",
       "      <td>10</td>\n",
       "      <td>78</td>\n",
       "      <td>guest</td>\n",
       "      <td>270.0</td>\n",
       "      <td>78.0</td>\n",
       "    </tr>\n",
       "    <tr>\n",
       "      <th>3</th>\n",
       "      <td>45</td>\n",
       "      <td>10</td>\n",
       "      <td>78</td>\n",
       "      <td>guest</td>\n",
       "      <td>267.0</td>\n",
       "      <td>94.0</td>\n",
       "    </tr>\n",
       "    <tr>\n",
       "      <th>4</th>\n",
       "      <td>45</td>\n",
       "      <td>2</td>\n",
       "      <td>56</td>\n",
       "      <td>guest</td>\n",
       "      <td>938.0</td>\n",
       "      <td>75.0</td>\n",
       "    </tr>\n",
       "  </tbody>\n",
       "</table>\n",
       "</div>"
      ],
      "text/plain": [
       "  article_id  project_id user_id user_type  read_time  read_length\n",
       "0         45           2      78  resident      753.0         30.0\n",
       "1         45           2      78  resident     1076.0          5.0\n",
       "2         45          10      78     guest      270.0         78.0\n",
       "3         45          10      78     guest      267.0         94.0\n",
       "4         45           2      56     guest      938.0         75.0"
      ]
     },
     "execution_count": 287,
     "metadata": {},
     "output_type": "execute_result"
    }
   ],
   "source": [
    "is_read.head() "
   ]
  },
  {
   "cell_type": "code",
   "execution_count": 289,
   "metadata": {},
   "outputs": [],
   "source": [
    "is_read.to_csv('data_table/read.csv', index = False)"
   ]
  },
  {
   "cell_type": "markdown",
   "metadata": {},
   "source": [
    "### Add Column is_read\n",
    "\n",
    "นับว่าอ่านเมื่อ\n",
    "\n",
    "$$\\frac{\\text{read time user}}{\\text{read time article}} >= 0.7$$"
   ]
  },
  {
   "cell_type": "markdown",
   "metadata": {},
   "source": [
    "และ"
   ]
  },
  {
   "cell_type": "markdown",
   "metadata": {},
   "source": [
    "$$\\text{read length} > 70$$"
   ]
  },
  {
   "cell_type": "code",
   "execution_count": 310,
   "metadata": {},
   "outputs": [
    {
     "data": {
      "text/html": [
       "<div>\n",
       "<style>\n",
       "    .dataframe thead tr:only-child th {\n",
       "        text-align: right;\n",
       "    }\n",
       "\n",
       "    .dataframe thead th {\n",
       "        text-align: left;\n",
       "    }\n",
       "\n",
       "    .dataframe tbody tr th {\n",
       "        vertical-align: top;\n",
       "    }\n",
       "</style>\n",
       "<table border=\"1\" class=\"dataframe\">\n",
       "  <thead>\n",
       "    <tr style=\"text-align: right;\">\n",
       "      <th></th>\n",
       "      <th>id</th>\n",
       "      <th>name</th>\n",
       "      <th>type</th>\n",
       "      <th>read_time</th>\n",
       "      <th>created_at</th>\n",
       "      <th>published_at</th>\n",
       "    </tr>\n",
       "  </thead>\n",
       "  <tbody>\n",
       "    <tr>\n",
       "      <th>0</th>\n",
       "      <td>1</td>\n",
       "      <td>Pont du Nord, Le</td>\n",
       "      <td>etc</td>\n",
       "      <td>385.0</td>\n",
       "      <td>2018-03-27 04:39:41</td>\n",
       "      <td>2018-02-13 17:35:39</td>\n",
       "    </tr>\n",
       "    <tr>\n",
       "      <th>1</th>\n",
       "      <td>2</td>\n",
       "      <td>Glass Shield, The</td>\n",
       "      <td>event</td>\n",
       "      <td>311.7</td>\n",
       "      <td>2017-08-12 05:40:08</td>\n",
       "      <td>2017-08-17 13:34:08</td>\n",
       "    </tr>\n",
       "    <tr>\n",
       "      <th>2</th>\n",
       "      <td>3</td>\n",
       "      <td>Wizard, The</td>\n",
       "      <td>news</td>\n",
       "      <td>260.1</td>\n",
       "      <td>2018-02-16 08:39:45</td>\n",
       "      <td>2017-07-31 02:14:10</td>\n",
       "    </tr>\n",
       "    <tr>\n",
       "      <th>3</th>\n",
       "      <td>4</td>\n",
       "      <td>Marihuana</td>\n",
       "      <td>privilege</td>\n",
       "      <td>286.8</td>\n",
       "      <td>2018-03-15 20:57:59</td>\n",
       "      <td>2017-10-20 13:51:06</td>\n",
       "    </tr>\n",
       "    <tr>\n",
       "      <th>4</th>\n",
       "      <td>5</td>\n",
       "      <td>Once Upon a Time in China II (Wong Fei-hung Ji...</td>\n",
       "      <td>etc</td>\n",
       "      <td>650.1</td>\n",
       "      <td>2017-05-07 10:39:41</td>\n",
       "      <td>2017-10-18 10:22:59</td>\n",
       "    </tr>\n",
       "  </tbody>\n",
       "</table>\n",
       "</div>"
      ],
      "text/plain": [
       "   id                                               name       type  \\\n",
       "0   1                                   Pont du Nord, Le        etc   \n",
       "1   2                                  Glass Shield, The      event   \n",
       "2   3                                        Wizard, The       news   \n",
       "3   4                                          Marihuana  privilege   \n",
       "4   5  Once Upon a Time in China II (Wong Fei-hung Ji...        etc   \n",
       "\n",
       "   read_time           created_at         published_at  \n",
       "0      385.0  2018-03-27 04:39:41  2018-02-13 17:35:39  \n",
       "1      311.7  2017-08-12 05:40:08  2017-08-17 13:34:08  \n",
       "2      260.1  2018-02-16 08:39:45  2017-07-31 02:14:10  \n",
       "3      286.8  2018-03-15 20:57:59  2017-10-20 13:51:06  \n",
       "4      650.1  2017-05-07 10:39:41  2017-10-18 10:22:59  "
      ]
     },
     "execution_count": 310,
     "metadata": {},
     "output_type": "execute_result"
    }
   ],
   "source": [
    "articles.head()"
   ]
  },
  {
   "cell_type": "code",
   "execution_count": 311,
   "metadata": {},
   "outputs": [
    {
     "name": "stdout",
     "output_type": "stream",
     "text": [
      "(16227, 8)\n"
     ]
    },
    {
     "data": {
      "text/html": [
       "<div>\n",
       "<style>\n",
       "    .dataframe thead tr:only-child th {\n",
       "        text-align: right;\n",
       "    }\n",
       "\n",
       "    .dataframe thead th {\n",
       "        text-align: left;\n",
       "    }\n",
       "\n",
       "    .dataframe tbody tr th {\n",
       "        vertical-align: top;\n",
       "    }\n",
       "</style>\n",
       "<table border=\"1\" class=\"dataframe\">\n",
       "  <thead>\n",
       "    <tr style=\"text-align: right;\">\n",
       "      <th></th>\n",
       "      <th>article_id</th>\n",
       "      <th>project_id</th>\n",
       "      <th>user_id</th>\n",
       "      <th>user_type</th>\n",
       "      <th>read_time_x</th>\n",
       "      <th>read_length</th>\n",
       "      <th>id</th>\n",
       "      <th>read_time_y</th>\n",
       "    </tr>\n",
       "  </thead>\n",
       "  <tbody>\n",
       "    <tr>\n",
       "      <th>0</th>\n",
       "      <td>45</td>\n",
       "      <td>2</td>\n",
       "      <td>78</td>\n",
       "      <td>resident</td>\n",
       "      <td>753.0</td>\n",
       "      <td>30.0</td>\n",
       "      <td>45</td>\n",
       "      <td>730.6</td>\n",
       "    </tr>\n",
       "    <tr>\n",
       "      <th>1</th>\n",
       "      <td>45</td>\n",
       "      <td>2</td>\n",
       "      <td>78</td>\n",
       "      <td>resident</td>\n",
       "      <td>1076.0</td>\n",
       "      <td>5.0</td>\n",
       "      <td>45</td>\n",
       "      <td>730.6</td>\n",
       "    </tr>\n",
       "    <tr>\n",
       "      <th>2</th>\n",
       "      <td>45</td>\n",
       "      <td>10</td>\n",
       "      <td>78</td>\n",
       "      <td>guest</td>\n",
       "      <td>270.0</td>\n",
       "      <td>78.0</td>\n",
       "      <td>45</td>\n",
       "      <td>730.6</td>\n",
       "    </tr>\n",
       "    <tr>\n",
       "      <th>3</th>\n",
       "      <td>45</td>\n",
       "      <td>10</td>\n",
       "      <td>78</td>\n",
       "      <td>guest</td>\n",
       "      <td>267.0</td>\n",
       "      <td>94.0</td>\n",
       "      <td>45</td>\n",
       "      <td>730.6</td>\n",
       "    </tr>\n",
       "    <tr>\n",
       "      <th>4</th>\n",
       "      <td>45</td>\n",
       "      <td>2</td>\n",
       "      <td>56</td>\n",
       "      <td>guest</td>\n",
       "      <td>938.0</td>\n",
       "      <td>75.0</td>\n",
       "      <td>45</td>\n",
       "      <td>730.6</td>\n",
       "    </tr>\n",
       "  </tbody>\n",
       "</table>\n",
       "</div>"
      ],
      "text/plain": [
       "  article_id  project_id user_id user_type  read_time_x  read_length  id  \\\n",
       "0         45           2      78  resident        753.0         30.0  45   \n",
       "1         45           2      78  resident       1076.0          5.0  45   \n",
       "2         45          10      78     guest        270.0         78.0  45   \n",
       "3         45          10      78     guest        267.0         94.0  45   \n",
       "4         45           2      56     guest        938.0         75.0  45   \n",
       "\n",
       "   read_time_y  \n",
       "0        730.6  \n",
       "1        730.6  \n",
       "2        730.6  \n",
       "3        730.6  \n",
       "4        730.6  "
      ]
     },
     "execution_count": 311,
     "metadata": {},
     "output_type": "execute_result"
    }
   ],
   "source": [
    "new_read = pd.merge(is_read, articles[['id','read_time']], how='inner', left_on=['article_id'], right_on = ['id'])\n",
    "print(new_read.shape)\n",
    "new_read.head() "
   ]
  },
  {
   "cell_type": "code",
   "execution_count": 312,
   "metadata": {},
   "outputs": [],
   "source": [
    "new_read['is_read'] = (new_read['read_time_x']/new_read['read_time_y'] > 0.7).astype(int)"
   ]
  },
  {
   "cell_type": "code",
   "execution_count": 315,
   "metadata": {},
   "outputs": [
    {
     "data": {
      "text/html": [
       "<div>\n",
       "<style>\n",
       "    .dataframe thead tr:only-child th {\n",
       "        text-align: right;\n",
       "    }\n",
       "\n",
       "    .dataframe thead th {\n",
       "        text-align: left;\n",
       "    }\n",
       "\n",
       "    .dataframe tbody tr th {\n",
       "        vertical-align: top;\n",
       "    }\n",
       "</style>\n",
       "<table border=\"1\" class=\"dataframe\">\n",
       "  <thead>\n",
       "    <tr style=\"text-align: right;\">\n",
       "      <th></th>\n",
       "      <th>article_id</th>\n",
       "      <th>project_id</th>\n",
       "      <th>user_id</th>\n",
       "      <th>user_type</th>\n",
       "      <th>read_time</th>\n",
       "      <th>read_length</th>\n",
       "      <th>is_read</th>\n",
       "    </tr>\n",
       "  </thead>\n",
       "  <tbody>\n",
       "    <tr>\n",
       "      <th>0</th>\n",
       "      <td>45</td>\n",
       "      <td>2</td>\n",
       "      <td>78</td>\n",
       "      <td>resident</td>\n",
       "      <td>753.0</td>\n",
       "      <td>30.0</td>\n",
       "      <td>1</td>\n",
       "    </tr>\n",
       "    <tr>\n",
       "      <th>1</th>\n",
       "      <td>45</td>\n",
       "      <td>2</td>\n",
       "      <td>78</td>\n",
       "      <td>resident</td>\n",
       "      <td>1076.0</td>\n",
       "      <td>5.0</td>\n",
       "      <td>1</td>\n",
       "    </tr>\n",
       "    <tr>\n",
       "      <th>2</th>\n",
       "      <td>45</td>\n",
       "      <td>10</td>\n",
       "      <td>78</td>\n",
       "      <td>guest</td>\n",
       "      <td>270.0</td>\n",
       "      <td>78.0</td>\n",
       "      <td>0</td>\n",
       "    </tr>\n",
       "    <tr>\n",
       "      <th>3</th>\n",
       "      <td>45</td>\n",
       "      <td>10</td>\n",
       "      <td>78</td>\n",
       "      <td>guest</td>\n",
       "      <td>267.0</td>\n",
       "      <td>94.0</td>\n",
       "      <td>0</td>\n",
       "    </tr>\n",
       "    <tr>\n",
       "      <th>4</th>\n",
       "      <td>45</td>\n",
       "      <td>2</td>\n",
       "      <td>56</td>\n",
       "      <td>guest</td>\n",
       "      <td>938.0</td>\n",
       "      <td>75.0</td>\n",
       "      <td>1</td>\n",
       "    </tr>\n",
       "  </tbody>\n",
       "</table>\n",
       "</div>"
      ],
      "text/plain": [
       "  article_id  project_id user_id user_type  read_time  read_length  is_read\n",
       "0         45           2      78  resident      753.0         30.0        1\n",
       "1         45           2      78  resident     1076.0          5.0        1\n",
       "2         45          10      78     guest      270.0         78.0        0\n",
       "3         45          10      78     guest      267.0         94.0        0\n",
       "4         45           2      56     guest      938.0         75.0        1"
      ]
     },
     "execution_count": 315,
     "metadata": {},
     "output_type": "execute_result"
    }
   ],
   "source": [
    "if 'id' in new_read:\n",
    "    del new_read['id'] \n",
    "if 'read_time_y' in new_read:\n",
    "    del new_read['read_time_y']\n",
    "new_read = new_read.rename(columns={'read_time_x':'read_time'})\n",
    "new_read.head() "
   ]
  },
  {
   "cell_type": "markdown",
   "metadata": {},
   "source": [
    "# Action"
   ]
  },
  {
   "cell_type": "markdown",
   "metadata": {},
   "source": [
    "action เป็น sampling ของ read เอาสัก 20%"
   ]
  },
  {
   "cell_type": "code",
   "execution_count": 318,
   "metadata": {},
   "outputs": [
    {
     "name": "stdout",
     "output_type": "stream",
     "text": [
      "(3245, 6)\n"
     ]
    },
    {
     "data": {
      "text/html": [
       "<div>\n",
       "<style>\n",
       "    .dataframe thead tr:only-child th {\n",
       "        text-align: right;\n",
       "    }\n",
       "\n",
       "    .dataframe thead th {\n",
       "        text-align: left;\n",
       "    }\n",
       "\n",
       "    .dataframe tbody tr th {\n",
       "        vertical-align: top;\n",
       "    }\n",
       "</style>\n",
       "<table border=\"1\" class=\"dataframe\">\n",
       "  <thead>\n",
       "    <tr style=\"text-align: right;\">\n",
       "      <th></th>\n",
       "      <th>article_id</th>\n",
       "      <th>project_id</th>\n",
       "      <th>user_id</th>\n",
       "      <th>user_type</th>\n",
       "      <th>read_time</th>\n",
       "      <th>read_length</th>\n",
       "    </tr>\n",
       "  </thead>\n",
       "  <tbody>\n",
       "    <tr>\n",
       "      <th>13257</th>\n",
       "      <td>13</td>\n",
       "      <td>6</td>\n",
       "      <td>33</td>\n",
       "      <td>resident</td>\n",
       "      <td>335.0</td>\n",
       "      <td>99.0</td>\n",
       "    </tr>\n",
       "    <tr>\n",
       "      <th>903</th>\n",
       "      <td>42</td>\n",
       "      <td>5</td>\n",
       "      <td>2</td>\n",
       "      <td>owner</td>\n",
       "      <td>1048.0</td>\n",
       "      <td>31.0</td>\n",
       "    </tr>\n",
       "    <tr>\n",
       "      <th>12344</th>\n",
       "      <td>72</td>\n",
       "      <td>7</td>\n",
       "      <td>56</td>\n",
       "      <td>resident</td>\n",
       "      <td>370.0</td>\n",
       "      <td>57.0</td>\n",
       "    </tr>\n",
       "    <tr>\n",
       "      <th>10776</th>\n",
       "      <td>89</td>\n",
       "      <td>3</td>\n",
       "      <td>67</td>\n",
       "      <td>tenant</td>\n",
       "      <td>961.0</td>\n",
       "      <td>0.0</td>\n",
       "    </tr>\n",
       "    <tr>\n",
       "      <th>8455</th>\n",
       "      <td>42</td>\n",
       "      <td>10</td>\n",
       "      <td>26</td>\n",
       "      <td>resident</td>\n",
       "      <td>895.0</td>\n",
       "      <td>45.0</td>\n",
       "    </tr>\n",
       "  </tbody>\n",
       "</table>\n",
       "</div>"
      ],
      "text/plain": [
       "      article_id  project_id user_id user_type  read_time  read_length\n",
       "13257         13           6      33  resident      335.0         99.0\n",
       "903           42           5       2     owner     1048.0         31.0\n",
       "12344         72           7      56  resident      370.0         57.0\n",
       "10776         89           3      67    tenant      961.0          0.0\n",
       "8455          42          10      26  resident      895.0         45.0"
      ]
     },
     "execution_count": 318,
     "metadata": {},
     "output_type": "execute_result"
    }
   ],
   "source": [
    "action = is_read.sample(frac=0.2)\n",
    "print(action.shape)\n",
    "action.head()"
   ]
  },
  {
   "cell_type": "markdown",
   "metadata": {},
   "source": [
    "แล้วทำแบบ Seen"
   ]
  },
  {
   "cell_type": "code",
   "execution_count": 321,
   "metadata": {},
   "outputs": [
    {
     "name": "stdout",
     "output_type": "stream",
     "text": [
      "(8122, 4)\n"
     ]
    },
    {
     "data": {
      "text/html": [
       "<div>\n",
       "<style>\n",
       "    .dataframe thead tr:only-child th {\n",
       "        text-align: right;\n",
       "    }\n",
       "\n",
       "    .dataframe thead th {\n",
       "        text-align: left;\n",
       "    }\n",
       "\n",
       "    .dataframe tbody tr th {\n",
       "        vertical-align: top;\n",
       "    }\n",
       "</style>\n",
       "<table border=\"1\" class=\"dataframe\">\n",
       "  <thead>\n",
       "    <tr style=\"text-align: right;\">\n",
       "      <th></th>\n",
       "      <th>article_id</th>\n",
       "      <th>project_id</th>\n",
       "      <th>user_id</th>\n",
       "      <th>user_type</th>\n",
       "    </tr>\n",
       "  </thead>\n",
       "  <tbody>\n",
       "    <tr>\n",
       "      <th>0</th>\n",
       "      <td>45</td>\n",
       "      <td>2</td>\n",
       "      <td>78</td>\n",
       "      <td>resident</td>\n",
       "    </tr>\n",
       "    <tr>\n",
       "      <th>1</th>\n",
       "      <td>45</td>\n",
       "      <td>10</td>\n",
       "      <td>78</td>\n",
       "      <td>guest</td>\n",
       "    </tr>\n",
       "    <tr>\n",
       "      <th>2</th>\n",
       "      <td>45</td>\n",
       "      <td>2</td>\n",
       "      <td>68</td>\n",
       "      <td>guest</td>\n",
       "    </tr>\n",
       "    <tr>\n",
       "      <th>3</th>\n",
       "      <td>45</td>\n",
       "      <td>2</td>\n",
       "      <td>68</td>\n",
       "      <td>guest</td>\n",
       "    </tr>\n",
       "    <tr>\n",
       "      <th>4</th>\n",
       "      <td>45</td>\n",
       "      <td>3</td>\n",
       "      <td>68</td>\n",
       "      <td>guest</td>\n",
       "    </tr>\n",
       "  </tbody>\n",
       "</table>\n",
       "</div>"
      ],
      "text/plain": [
       "  article_id  project_id user_id user_type\n",
       "0         45           2      78  resident\n",
       "1         45          10      78     guest\n",
       "2         45           2      68     guest\n",
       "3         45           2      68     guest\n",
       "4         45           3      68     guest"
      ]
     },
     "execution_count": 321,
     "metadata": {},
     "output_type": "execute_result"
    }
   ],
   "source": [
    "new_action = pd.merge(article_project_user, action[['article_id','user_id']],  how='inner', left_on=['article_id','user_id'], right_on = ['article_id','user_id'])\n",
    "print(new_action.shape)\n",
    "new_action.head() "
   ]
  },
  {
   "cell_type": "markdown",
   "metadata": {},
   "source": [
    "เพิ่ม Column `save_at, share_at,love_at,sad_at,angry_at`"
   ]
  },
  {
   "cell_type": "code",
   "execution_count": 336,
   "metadata": {},
   "outputs": [],
   "source": [
    "import numpy as np\n",
    "\n",
    "save_at = np.array([])\n",
    "share_at = np.array([])\n",
    "\n",
    "love_at = np.array([])\n",
    "sad_at = np.array([])\n",
    "angry_at = np.array([])\n",
    "\n",
    "for i in range(len(new_action)):\n",
    "    save_data = randomDate(\"2017-04-04 04:00:00\", \"2018-04-11 00:00:00\", random.random()) if randint(0,1) == 1 else \"\"\n",
    "    save_at = np.append(save_at,[save_data])\n",
    "\n",
    "    share_data = randomDate(\"2017-04-04 04:00:00\", \"2018-04-11 00:00:00\", random.random()) if randint(0,1) == 1 else \"\" \n",
    "    share_at = np.append(share_at,[share_data])\n",
    "\n",
    "    action_id = randint(1,3)\n",
    "    if action_id == 1:\n",
    "        love_at = np.append(love_at,[randomDate(\"2017-04-04 04:00:00\", \"2018-04-11 00:00:00\", random.random())])\n",
    "        sad_at = np.append(sad_at,[\"\"])\n",
    "        angry_at = np.append(angry_at,[\"\"])\n",
    "    elif action_id == 2:\n",
    "        love_at = np.append(love_at,[\"\"])\n",
    "        sad_at = np.append(sad_at,[randomDate(\"2017-04-04 04:00:00\", \"2018-04-11 00:00:00\", random.random())])\n",
    "        angry_at = np.append(angry_at,[\"\"])\n",
    "    else:\n",
    "        love_at = np.append(love_at,[\"\"])\n",
    "        sad_at = np.append(sad_at,[\"\"])\n",
    "        angry_at = np.append(angry_at,[randomDate(\"2017-04-04 04:00:00\", \"2018-04-11 00:00:00\", random.random())])\n",
    "        \n",
    "new_action['save_at'] = save_at\n",
    "new_action['share_at'] = share_at\n",
    "new_action['love_at'] = love_at\n",
    "new_action['sad_at'] = sad_at\n",
    "new_action['angry_at'] = angry_at"
   ]
  },
  {
   "cell_type": "code",
   "execution_count": 338,
   "metadata": {},
   "outputs": [
    {
     "data": {
      "text/html": [
       "<div>\n",
       "<style>\n",
       "    .dataframe thead tr:only-child th {\n",
       "        text-align: right;\n",
       "    }\n",
       "\n",
       "    .dataframe thead th {\n",
       "        text-align: left;\n",
       "    }\n",
       "\n",
       "    .dataframe tbody tr th {\n",
       "        vertical-align: top;\n",
       "    }\n",
       "</style>\n",
       "<table border=\"1\" class=\"dataframe\">\n",
       "  <thead>\n",
       "    <tr style=\"text-align: right;\">\n",
       "      <th></th>\n",
       "      <th>article_id</th>\n",
       "      <th>project_id</th>\n",
       "      <th>user_id</th>\n",
       "      <th>user_type</th>\n",
       "      <th>save_at</th>\n",
       "      <th>share_at</th>\n",
       "      <th>love_at</th>\n",
       "      <th>sad_at</th>\n",
       "      <th>angry_at</th>\n",
       "    </tr>\n",
       "  </thead>\n",
       "  <tbody>\n",
       "    <tr>\n",
       "      <th>0</th>\n",
       "      <td>45</td>\n",
       "      <td>2</td>\n",
       "      <td>78</td>\n",
       "      <td>resident</td>\n",
       "      <td>2017-10-16 05:07:05</td>\n",
       "      <td>2017-12-15 00:35:56</td>\n",
       "      <td></td>\n",
       "      <td>2017-04-14 08:31:23</td>\n",
       "      <td></td>\n",
       "    </tr>\n",
       "    <tr>\n",
       "      <th>1</th>\n",
       "      <td>45</td>\n",
       "      <td>10</td>\n",
       "      <td>78</td>\n",
       "      <td>guest</td>\n",
       "      <td></td>\n",
       "      <td>2017-10-02 13:57:08</td>\n",
       "      <td></td>\n",
       "      <td>2017-11-01 10:29:43</td>\n",
       "      <td></td>\n",
       "    </tr>\n",
       "    <tr>\n",
       "      <th>2</th>\n",
       "      <td>45</td>\n",
       "      <td>2</td>\n",
       "      <td>68</td>\n",
       "      <td>guest</td>\n",
       "      <td>2017-10-03 18:56:37</td>\n",
       "      <td></td>\n",
       "      <td></td>\n",
       "      <td></td>\n",
       "      <td>2017-09-17 08:04:27</td>\n",
       "    </tr>\n",
       "    <tr>\n",
       "      <th>3</th>\n",
       "      <td>45</td>\n",
       "      <td>2</td>\n",
       "      <td>68</td>\n",
       "      <td>guest</td>\n",
       "      <td></td>\n",
       "      <td></td>\n",
       "      <td></td>\n",
       "      <td></td>\n",
       "      <td>2017-06-17 14:41:08</td>\n",
       "    </tr>\n",
       "    <tr>\n",
       "      <th>4</th>\n",
       "      <td>45</td>\n",
       "      <td>3</td>\n",
       "      <td>68</td>\n",
       "      <td>guest</td>\n",
       "      <td></td>\n",
       "      <td>2017-05-14 19:14:30</td>\n",
       "      <td></td>\n",
       "      <td></td>\n",
       "      <td>2018-03-26 12:26:20</td>\n",
       "    </tr>\n",
       "  </tbody>\n",
       "</table>\n",
       "</div>"
      ],
      "text/plain": [
       "  article_id  project_id user_id user_type              save_at  \\\n",
       "0         45           2      78  resident  2017-10-16 05:07:05   \n",
       "1         45          10      78     guest                        \n",
       "2         45           2      68     guest  2017-10-03 18:56:37   \n",
       "3         45           2      68     guest                        \n",
       "4         45           3      68     guest                        \n",
       "\n",
       "              share_at love_at               sad_at             angry_at  \n",
       "0  2017-12-15 00:35:56          2017-04-14 08:31:23                       \n",
       "1  2017-10-02 13:57:08          2017-11-01 10:29:43                       \n",
       "2                                                    2017-09-17 08:04:27  \n",
       "3                                                    2017-06-17 14:41:08  \n",
       "4  2017-05-14 19:14:30                               2018-03-26 12:26:20  "
      ]
     },
     "execution_count": 338,
     "metadata": {},
     "output_type": "execute_result"
    }
   ],
   "source": [
    "new_action.head()"
   ]
  },
  {
   "cell_type": "code",
   "execution_count": 340,
   "metadata": {},
   "outputs": [],
   "source": [
    "new_action.to_csv('data_table/action.csv', index = False)"
   ]
  },
  {
   "cell_type": "code",
   "execution_count": 3,
   "metadata": {},
   "outputs": [
    {
     "data": {
      "text/plain": [
       "3"
      ]
     },
     "execution_count": 3,
     "metadata": {},
     "output_type": "execute_result"
    }
   ],
   "source": [
    "from random import randint\n",
    "randint(1,3)"
   ]
  },
  {
   "cell_type": "code",
   "execution_count": null,
   "metadata": {},
   "outputs": [],
   "source": []
  }
 ],
 "metadata": {
  "kernelspec": {
   "display_name": "Python 3",
   "language": "python",
   "name": "python3"
  },
  "language_info": {
   "codemirror_mode": {
    "name": "ipython",
    "version": 3
   },
   "file_extension": ".py",
   "mimetype": "text/x-python",
   "name": "python",
   "nbconvert_exporter": "python",
   "pygments_lexer": "ipython3",
   "version": "3.6.3"
  }
 },
 "nbformat": 4,
 "nbformat_minor": 2
}
